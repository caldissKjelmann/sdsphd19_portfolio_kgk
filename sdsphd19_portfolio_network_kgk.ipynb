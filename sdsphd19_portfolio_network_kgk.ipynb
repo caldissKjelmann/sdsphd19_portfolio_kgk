{
  "nbformat": 4,
  "nbformat_minor": 0,
  "metadata": {
    "colab": {
      "name": "sdsphd19_portfolio_network_kgk.ipynb",
      "provenance": [],
      "include_colab_link": true
    },
    "kernelspec": {
      "name": "python3",
      "display_name": "Python 3"
    }
  },
  "cells": [
    {
      "cell_type": "markdown",
      "metadata": {
        "id": "view-in-github",
        "colab_type": "text"
      },
      "source": [
        "<a href=\"https://colab.research.google.com/github/caldissKjelmann/sdsphd19_portfolio_kgk/blob/master/sdsphd19_portfolio_network_kgk.ipynb\" target=\"_parent\"><img src=\"https://colab.research.google.com/assets/colab-badge.svg\" alt=\"Open In Colab\"/></a>"
      ]
    },
    {
      "cell_type": "code",
      "metadata": {
        "id": "A9hjHhAoLII9",
        "colab_type": "code",
        "colab": {}
      },
      "source": [
        "# IMPORTING LIBRARIES\n",
        "import numpy as np\n",
        "import pandas as pd\n",
        "import matplotlib.pyplot as plt\n",
        "import seaborn as sb\n",
        "import itertools "
      ],
      "execution_count": 0,
      "outputs": []
    },
    {
      "cell_type": "code",
      "metadata": {
        "id": "Uo9LdZTxLM9T",
        "colab_type": "code",
        "colab": {}
      },
      "source": [
        "## I'M TOTALLY GOING TO DO STUFF BELOW THIS CELL I SWEAR"
      ],
      "execution_count": 0,
      "outputs": []
    }
  ]
}